{
 "cells": [
  {
   "cell_type": "code",
   "execution_count": 1,
   "metadata": {
    "collapsed": true
   },
   "outputs": [],
   "source": [
    "import matplotlib.pyplot as plt\n",
    "import numpy as np\n",
    "# 패키지 import"
   ]
  },
  {
   "cell_type": "code",
   "execution_count": 2,
   "metadata": {
    "collapsed": true
   },
   "outputs": [],
   "source": [
    "def logistic(x, r):\n",
    "    # 로지스틱 발화식\n",
    "    return r*x*(1-x)"
   ]
  },
  {
   "cell_type": "code",
   "execution_count": 3,
   "metadata": {
    "collapsed": true
   },
   "outputs": [],
   "source": [
    "counter = 1000                    # 루프 횟수\n",
    "res = 8                           # 루프 진동\n",
    "x0  = 0.5                         # 초기값 0 > x > 1\n",
    "arr_r = np.linspace(0, 4, 2000)   # R값 리스트 [0, 4]\n",
    "arr_x = []                        # X값 리스트\n",
    "for r in arr_r:\n",
    "    # R 값 나열\n",
    "    x = x0\n",
    "    for i in range(1, np.random.randint(counter-res, counter+res)):\n",
    "        # 로지스틱 반복수행: 랜덤 [counter-res, counter+res]\n",
    "        x = logistic(x, r)\n",
    "    arr_x.append(x)  # X 리스트에 x값 추가"
   ]
  },
  {
   "cell_type": "code",
   "execution_count": 4,
   "metadata": {
    "collapsed": false
   },
   "outputs": [
    {
     "data": {
      "image/png": "[encoded data removed]",
      "text/plain": [
       "<matplotlib.figure.Figure at 0x18ba6b2ad68>"
      ]
     },
     "metadata": {},
     "output_type": "display_data"
    }
   ],
   "source": [
    "plt.xlim(0.9, 4.1)   # x 축 표시범위\n",
    "plt.ylim(-0.1,1.1)   # y 축 표시범위\n",
    "plt.xlabel(\"R\")      # x 축제목\n",
    "plt.ylabel(\"X\")      # y 축제목\n",
    "plt.plot(arr_r, arr_x, '.k', ms=2)\n",
    "plt.show()"
   ]
  },
  {
   "cell_type": "code",
   "execution_count": null,
   "metadata": {
    "collapsed": true
   },
   "outputs": [],
   "source": []
  }
 ],
 "metadata": {
  "kernelspec": {
   "display_name": "Python 3",
   "language": "python",
   "name": "python3"
  },
  "language_info": {
   "codemirror_mode": {
    "name": "ipython",
    "version": 3
   },
   "file_extension": ".py",
   "mimetype": "text/x-python",
   "name": "python",
   "nbconvert_exporter": "python",
   "pygments_lexer": "ipython3",
   "version": "3.6.0"
  }
 },
 "nbformat": 4,
 "nbformat_minor": 2
}
